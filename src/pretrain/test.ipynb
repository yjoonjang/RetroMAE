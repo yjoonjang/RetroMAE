{
 "cells": [
  {
   "cell_type": "code",
   "execution_count": 1,
   "id": "03571932",
   "metadata": {},
   "outputs": [
    {
     "name": "stderr",
     "output_type": "stream",
     "text": [
      "/mnt/raid6/yjoonjang/miniconda3/envs/kurev2/lib/python3.10/site-packages/tqdm/auto.py:21: TqdmWarning: IProgress not found. Please update jupyter and ipywidgets. See https://ipywidgets.readthedocs.io/en/stable/user_install.html\n",
      "  from .autonotebook import tqdm as notebook_tqdm\n"
     ]
    }
   ],
   "source": [
    "from enhancedDecoder import ModernBertLayerForDecoder, ModernBERTCrossAttention"
   ]
  },
  {
   "cell_type": "code",
   "execution_count": 2,
   "id": "2c3021c9",
   "metadata": {},
   "outputs": [],
   "source": [
    "from transformers import ModernBertConfig\n",
    "config = ModernBertConfig()"
   ]
  },
  {
   "cell_type": "code",
   "execution_count": 3,
   "id": "52ccc01c",
   "metadata": {},
   "outputs": [
    {
     "data": {
      "text/plain": [
       "ModernBertLayerForDecoder(\n",
       "  (attn): ModernBERTCrossAttention(\n",
       "    (Wq): Linear(in_features=768, out_features=768, bias=False)\n",
       "    (Wkv): Linear(in_features=768, out_features=1536, bias=False)\n",
       "    (Wo): Linear(in_features=768, out_features=768, bias=False)\n",
       "    (rotary_emb): ModernBertRotaryEmbedding()\n",
       "  )\n",
       "  (attn_norm): LayerNorm((768,), eps=1e-05, elementwise_affine=True)\n",
       "  (mlp): ModernBertMLP(\n",
       "    (Wi): Linear(in_features=768, out_features=2304, bias=False)\n",
       "    (act): GELUActivation()\n",
       "    (drop): Dropout(p=0.0, inplace=False)\n",
       "    (Wo): Linear(in_features=1152, out_features=768, bias=False)\n",
       "  )\n",
       "  (mlp_norm): LayerNorm((768,), eps=1e-05, elementwise_affine=True)\n",
       ")"
      ]
     },
     "execution_count": 3,
     "metadata": {},
     "output_type": "execute_result"
    }
   ],
   "source": [
    "decoder = ModernBertLayerForDecoder(config)\n",
    "decoder"
   ]
  },
  {
   "cell_type": "code",
   "execution_count": 6,
   "id": "193d5514",
   "metadata": {},
   "outputs": [
    {
     "data": {
      "text/plain": [
       "ModernBertLayerForDecoder(\n",
       "  (attn): ModernBERTCrossAttention(\n",
       "    (Wq): Linear(in_features=768, out_features=768, bias=False)\n",
       "    (Wkv): Linear(in_features=768, out_features=1536, bias=False)\n",
       "    (Wo): Linear(in_features=768, out_features=768, bias=False)\n",
       "    (rotary_emb): ModernBertRotaryEmbedding()\n",
       "  )\n",
       "  (attn_norm): LayerNorm((768,), eps=1e-05, elementwise_affine=True)\n",
       "  (mlp): ModernBertMLP(\n",
       "    (Wi): Linear(in_features=768, out_features=2304, bias=False)\n",
       "    (act): GELUActivation()\n",
       "    (drop): Dropout(p=0.0, inplace=False)\n",
       "    (Wo): Linear(in_features=1152, out_features=768, bias=False)\n",
       "  )\n",
       "  (mlp_norm): LayerNorm((768,), eps=1e-05, elementwise_affine=True)\n",
       ")"
      ]
     },
     "execution_count": 6,
     "metadata": {},
     "output_type": "execute_result"
    }
   ],
   "source": [
    "decoder.bfloat16()"
   ]
  },
  {
   "cell_type": "code",
   "execution_count": 8,
   "id": "fd5f4952",
   "metadata": {},
   "outputs": [
    {
     "data": {
      "text/plain": [
       "tensor([[0, 1, 1, 1, 0, 1, 0, 0, 1, 1]])"
      ]
     },
     "execution_count": 8,
     "metadata": {},
     "output_type": "execute_result"
    }
   ],
   "source": [
    "import torch\n",
    "\n",
    "encoder_attention_mask = torch.randint(0, 2, (1, 10))\n",
    "encoder_attention_mask\n"
   ]
  },
  {
   "cell_type": "code",
   "execution_count": 10,
   "id": "a2c289d7",
   "metadata": {},
   "outputs": [
    {
     "data": {
      "text/plain": [
       "tensor([6], dtype=torch.int32)"
      ]
     },
     "execution_count": 10,
     "metadata": {},
     "output_type": "execute_result"
    }
   ],
   "source": [
    "seqlens_in_batch = encoder_attention_mask.sum(dim=-1, dtype=torch.int32)\n",
    "seqlens_in_batch"
   ]
  },
  {
   "cell_type": "code",
   "execution_count": 11,
   "id": "d9815879",
   "metadata": {},
   "outputs": [
    {
     "data": {
      "text/plain": [
       "tensor([0, 6], dtype=torch.int32)"
      ]
     },
     "execution_count": 11,
     "metadata": {},
     "output_type": "execute_result"
    }
   ],
   "source": [
    "cu_seqlens = torch.nn.functional.pad(torch.cumsum(seqlens_in_batch, dim=0, dtype=torch.int32), (1, 0))\n",
    "cu_seqlens"
   ]
  },
  {
   "cell_type": "code",
   "execution_count": 12,
   "id": "62b7597a",
   "metadata": {},
   "outputs": [
    {
     "data": {
      "text/plain": [
       "tensor([0], dtype=torch.int32)"
      ]
     },
     "execution_count": 12,
     "metadata": {},
     "output_type": "execute_result"
    }
   ],
   "source": [
    "cls_indices = cu_seqlens[:-1]\n",
    "cls_indices"
   ]
  },
  {
   "cell_type": "code",
   "execution_count": null,
   "id": "52508339",
   "metadata": {},
   "outputs": [],
   "source": []
  }
 ],
 "metadata": {
  "kernelspec": {
   "display_name": "kurev2",
   "language": "python",
   "name": "python3"
  },
  "language_info": {
   "codemirror_mode": {
    "name": "ipython",
    "version": 3
   },
   "file_extension": ".py",
   "mimetype": "text/x-python",
   "name": "python",
   "nbconvert_exporter": "python",
   "pygments_lexer": "ipython3",
   "version": "3.10.18"
  }
 },
 "nbformat": 4,
 "nbformat_minor": 5
}
